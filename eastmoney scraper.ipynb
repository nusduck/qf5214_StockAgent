{
 "cells": [
  {
   "cell_type": "code",
   "execution_count": 1,
   "metadata": {},
   "outputs": [
    {
     "name": "stderr",
     "output_type": "stream",
     "text": [
      "C:\\Users\\Ji Xuanchi\\AppData\\Local\\Temp\\ipykernel_23344\\2942766839.py:13: LangChainDeprecationWarning: The class `ChatOpenAI` was deprecated in LangChain 0.0.10 and will be removed in 1.0. An updated version of the class exists in the :class:`~langchain-openai package and should be used instead. To use it run `pip install -U :class:`~langchain-openai` and import as `from :class:`~langchain_openai import ChatOpenAI``.\n",
      "  llm = ChatOpenAI(\n",
      "C:\\Users\\Ji Xuanchi\\AppData\\Local\\Temp\\ipykernel_23344\\2942766839.py:61: LangChainDeprecationWarning: The class `LLMChain` was deprecated in LangChain 0.1.17 and will be removed in 1.0. Use :meth:`~RunnableSequence, e.g., `prompt | llm`` instead.\n",
      "  chain = LLMChain(llm=llm, prompt=prompt_template)\n"
     ]
    },
    {
     "name": "stdout",
     "output_type": "stream",
     "text": [
      "\n",
      "===== 新闻摘要结果 =====\n",
      "\n",
      "- 热点板块\n",
      "  1. 家用电器行业：领涨，荣泰健康涨停，海信视像涨9.21%，美的集团涨超4%。\n",
      "  2. 人形机器人行业：金沙江创投退出早期具身智能项目，板块大跌。\n",
      "  3. 特别国债：财政部将发行首批特别国债5000亿元，支持国有大型商业银行补充核心一级资本。\n",
      "\n",
      "- 相关新闻\n",
      "  1. 李稻葵：耐心资本培育企业需有坐十年冷板凳的思想准备，从融资和培养企业两方面要更加有耐心。\n",
      "  2. 易方达基金年报显示，面对当前宏观环境，整体思路逐步从布局内需的左侧转变为降低估值水平，等待内需达到再平衡。\n",
      "  3. 财政部将发行首批特别国债5000亿元，积极支持国有大型商业银行补充核心一级资本。\n",
      "  4. 全球金融市场动荡，日韩股市重挫，欧美股指期货全线走低，引发全球资金的避险情绪升温。\n",
      "  5. 美的集团年报亮相，业绩增长的同时，推出了每10股派35元的现金分红预案，拟回购不低于50亿元，不超过100亿元。\n",
      "  6. 金沙江创投主管合伙人朱啸虎表示，旗下天使基金在过去几年投过一些早期的具身智能项目，而最近几个月都在退出这些项目。\n",
      "\n",
      "- 相关股票\n",
      "  1. 美的集团（000333.SZ）：年报业绩增长，推出大额现金分红预案和回购预案，股价涨超4%。\n",
      "  2. 荣泰健康：涨停。\n",
      "  3. 海信视像：涨9.21%。\n",
      "  4. 小米集团（01810.HK）：美的集团清仓持有的小米集团股票，套现9.01亿元。\n"
     ]
    }
   ],
   "source": [
    "import requests\n",
    "from bs4 import BeautifulSoup\n",
    "from langchain_community.chat_models import ChatOpenAI\n",
    "from langchain.prompts import PromptTemplate\n",
    "from langchain.chains import LLMChain\n",
    "import os\n",
    "import time\n",
    "\n",
    "# ✅ 设置 Moonshot API Key（请替换为你自己的）\n",
    "os.environ[\"OPENAI_API_KEY\"] = \"sk-klVo5anJzPqeluB6cwezzDx13bdZq9vLjZi9TxQNK5K4S3xv\"\n",
    "\n",
    "# ✅ 初始化 Moonshot 模型\n",
    "llm = ChatOpenAI(\n",
    "    base_url=\"https://api.moonshot.cn/v1\",\n",
    "    api_key=os.environ[\"OPENAI_API_KEY\"],\n",
    "    model=\"moonshot-v1-128k\",\n",
    "    temperature=0.4\n",
    ")\n",
    "\n",
    "# ✅ 获取新闻页面内容\n",
    "import requests\n",
    "url = \"https://finance.eastmoney.com/\"\n",
    "headers = {\"User-Agent\": \"Mozilla/5.0\"}\n",
    "response = requests.get(url, headers=headers)\n",
    "response.encoding = 'utf-8'\n",
    "\n",
    "soup = BeautifulSoup(response.text, 'html.parser')\n",
    "\n",
    "# ✅ 提取新闻标题和正文内容\n",
    "articles = soup.find_all('a', title=True)\n",
    "news_data = []\n",
    "\n",
    "for article in articles:\n",
    "    title = article.get('title')\n",
    "    spans = article.find_all_next('span', class_='info')\n",
    "    content = \" \".join(span.get_text(strip=True) for span in spans)\n",
    "    news_data.append(f\"标题：{title}，内容：{content}\")\n",
    "\n",
    "# ✅ 构建 Prompt\n",
    "news_block = \"\\n\".join(news_data[:10])  # 取前5条新闻\n",
    "prompt_template = PromptTemplate(\n",
    "    input_variables=[\"news_block\"],\n",
    "    template=\"\"\"\n",
    "你是一位金融市场分析师，擅长从新闻中提取股市热点信息。以下是若干财经新闻内容，请你：\n",
    "1. 识别涉及的热点行业或板块，并提取日期、涨停股、资金流向等信息；\n",
    "2. 总结每个板块的表现（如涨跌幅、市场原因、政策影响等）；\n",
    "3. 提取相关新闻摘要，整合政策、宏观经济变化等；\n",
    "4. 汇总相关股票表现。\n",
    "\n",
    "输出格式：\n",
    "- 热点板块\n",
    "- 相关新闻\n",
    "- 相关股票\n",
    "\n",
    "以下是原始新闻内容：\n",
    "{news_block}\n",
    "\"\"\"\n",
    ")\n",
    "\n",
    "# ✅ 生成摘要\n",
    "chain = LLMChain(llm=llm, prompt=prompt_template)\n",
    "summary = chain.invoke({\"news_block\": news_block})\n",
    "\n",
    "# ✅ 输出结果\n",
    "print(\"\\n===== 新闻摘要结果 =====\\n\")\n",
    "print(summary[\"text\"] if isinstance(summary, dict) else summary)\n"
   ]
  }
 ],
 "metadata": {
  "kernelspec": {
   "display_name": "base",
   "language": "python",
   "name": "python3"
  },
  "language_info": {
   "codemirror_mode": {
    "name": "ipython",
    "version": 3
   },
   "file_extension": ".py",
   "mimetype": "text/x-python",
   "name": "python",
   "nbconvert_exporter": "python",
   "pygments_lexer": "ipython3",
   "version": "3.12.4"
  }
 },
 "nbformat": 4,
 "nbformat_minor": 2
}
